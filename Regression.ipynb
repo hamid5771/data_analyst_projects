{
  "nbformat": 4,
  "nbformat_minor": 0,
  "metadata": {
    "colab": {
      "provenance": [],
      "authorship_tag": "ABX9TyPDNzmtwrt47HUGduBsB1OF"
    },
    "kernelspec": {
      "name": "python3",
      "display_name": "Python 3"
    },
    "language_info": {
      "name": "python"
    }
  },
  "cells": [
    {
      "cell_type": "code",
      "execution_count": 16,
      "metadata": {
        "id": "B-Rnld0y19Cc"
      },
      "outputs": [],
      "source": [
        "import pandas as pd\n",
        "import matplotlib.pyplot as plt\n",
        "from sklearn import linear_model\n",
        "\n",
        "df= pd.read_csv('/content/Original MY2000-2014 Fuel Consumption Ratings (Cleaned).csv')"
      ]
    },
    {
      "cell_type": "code",
      "source": [
        "vari = df[['ENGINE SIZE','CYLINDERS','COMB (L/100 km)']]\n",
        "target = df['CO2 EMISSIONS  (g/km)']\n",
        "\n",
        "#See the relationship between variables\n",
        "for i in vari:\n",
        "  plt.scatter(df[i],target)\n",
        "  plt.xlabel(i)\n",
        "  plt.ylabel('Emission')\n",
        "  plt.show()"
      ],
      "metadata": {
        "id": "i1bftXx_fszn"
      },
      "execution_count": null,
      "outputs": []
    },
    {
      "cell_type": "code",
      "source": [
        "#creating test/train (split)\n",
        "from sklearn.model_selection import train_test_split\n",
        "from sklearn import linear_model\n",
        "from sklearn.metrics import mean_squared_error\n",
        "# Load  data into X and y variables\n",
        "X_train, X_test, y_train, y_test = train_test_split(vari, target, test_size=0.3, random_state=42)\n",
        "\n",
        "\n",
        "#caling multi linear regression\n",
        "regr = linear_model.LinearRegression()\n",
        "\n",
        "#train (fit)\n",
        "regr.fit(X_train, y_train)\n",
        "\n",
        "#test (predict)\n",
        "pred = regr.predict(X_test)\n",
        "\n",
        "MSE = mean_squared_error(y_test, pred)\n",
        "print(f'MSE is: {MSE}')"
      ],
      "metadata": {
        "colab": {
          "base_uri": "https://localhost:8080/"
        },
        "id": "a0WQ2eirlrTT",
        "outputId": "a4cf75d1-6207-487f-f792-c93f6ee2f448"
      },
      "execution_count": 38,
      "outputs": [
        {
          "output_type": "stream",
          "name": "stdout",
          "text": [
            "MSE is: 484.8195389995031\n"
          ]
        }
      ]
    },
    {
      "cell_type": "code",
      "source": [
        "# Display the last 10 predicted and actual values\n",
        "comparison = pd.DataFrame({'Actual': y_test[-10:], 'Predicted': pred[-10:]})\n",
        "comparison['dif']= (comparison['Actual'] - comparison['Predicted']).astype(int)\n",
        "print(comparison)"
      ],
      "metadata": {
        "colab": {
          "base_uri": "https://localhost:8080/"
        },
        "id": "ypJye7SklrP3",
        "outputId": "4a298fbf-1722-4ccc-b3e8-a1dfd325f10e"
      },
      "execution_count": 46,
      "outputs": [
        {
          "output_type": "stream",
          "name": "stdout",
          "text": [
            "       Actual   Predicted  dif\n",
            "12381     391  355.895281   35\n",
            "7309      232  219.622453   12\n",
            "2981      207  214.109812   -7\n",
            "6914      258  248.125252    9\n",
            "12445     205  218.125692  -13\n",
            "243       292  275.573568   16\n",
            "106       343  307.607392   35\n",
            "14052     212  221.930981   -9\n",
            "12596     306  382.532308  -76\n",
            "14111     313  305.667874    7\n"
          ]
        }
      ]
    },
    {
      "cell_type": "code",
      "source": [],
      "metadata": {
        "id": "-o8D6SDUlrNb"
      },
      "execution_count": null,
      "outputs": []
    },
    {
      "cell_type": "code",
      "source": [],
      "metadata": {
        "id": "s3ET3wr8lrKl"
      },
      "execution_count": null,
      "outputs": []
    },
    {
      "cell_type": "code",
      "source": [],
      "metadata": {
        "id": "WTZ5N1DPlrH7"
      },
      "execution_count": null,
      "outputs": []
    },
    {
      "cell_type": "code",
      "source": [],
      "metadata": {
        "id": "eypJAcRBlq3B"
      },
      "execution_count": null,
      "outputs": []
    },
    {
      "cell_type": "code",
      "source": [
        "df.columns\n"
      ],
      "metadata": {
        "colab": {
          "base_uri": "https://localhost:8080/"
        },
        "id": "ZvUjDlzpgrYG",
        "outputId": "91fee599-9c38-4150-92f6-0b7c6f46048c"
      },
      "execution_count": 32,
      "outputs": [
        {
          "output_type": "execute_result",
          "data": {
            "text/plain": [
              "Index(['MODEL YEAR', 'MAKE', 'MODEL # = high output engine', 'VEHICLE CLASS',\n",
              "       'ENGINE SIZE', 'CYLINDERS', 'TRANSMISSION', 'FUEL TYPE',\n",
              "       'FUEL CONSUMPTION CITY (L/100 km)', 'HWY (L/100 km)', 'COMB (L/100 km)',\n",
              "       'COMB (mpg)', 'CO2 EMISSIONS  (g/km)'],\n",
              "      dtype='object')"
            ]
          },
          "metadata": {},
          "execution_count": 32
        }
      ]
    },
    {
      "cell_type": "code",
      "source": [
        "df.corr()"
      ],
      "metadata": {
        "id": "ui0KUZ3u2MVz",
        "colab": {
          "base_uri": "https://localhost:8080/",
          "height": 433
        },
        "outputId": "417a9d2e-fe31-476f-ec9e-db20453d40bd"
      },
      "execution_count": 6,
      "outputs": [
        {
          "output_type": "stream",
          "name": "stderr",
          "text": [
            "<ipython-input-6-2f6f6606aa2c>:1: FutureWarning: The default value of numeric_only in DataFrame.corr is deprecated. In a future version, it will default to False. Select only valid columns or specify the value of numeric_only to silence this warning.\n",
            "  df.corr()\n"
          ]
        },
        {
          "output_type": "execute_result",
          "data": {
            "text/plain": [
              "                                  MODEL YEAR  ENGINE SIZE  CYLINDERS  \\\n",
              "MODEL YEAR                          1.000000     0.044227   0.012191   \n",
              "ENGINE SIZE                         0.044227     1.000000   0.904852   \n",
              "CYLINDERS                           0.012191     0.904852   1.000000   \n",
              "FUEL CONSUMPTION CITY (L/100 km)   -0.108952     0.815481   0.782181   \n",
              "HWY (L/100 km)                     -0.138446     0.765820   0.699117   \n",
              "COMB (L/100 km)                    -0.120130     0.806647   0.760996   \n",
              "COMB (mpg)                          0.166248    -0.771214  -0.722332   \n",
              "CO2 EMISSIONS  (g/km)              -0.196188     0.825690   0.795256   \n",
              "\n",
              "                                  FUEL CONSUMPTION CITY (L/100 km)  \\\n",
              "MODEL YEAR                                               -0.108952   \n",
              "ENGINE SIZE                                               0.815481   \n",
              "CYLINDERS                                                 0.782181   \n",
              "FUEL CONSUMPTION CITY (L/100 km)                          1.000000   \n",
              "HWY (L/100 km)                                            0.954999   \n",
              "COMB (L/100 km)                                           0.994376   \n",
              "COMB (mpg)                                               -0.923250   \n",
              "CO2 EMISSIONS  (g/km)                                     0.916559   \n",
              "\n",
              "                                  HWY (L/100 km)  COMB (L/100 km)  COMB (mpg)  \\\n",
              "MODEL YEAR                             -0.138446        -0.120130    0.166248   \n",
              "ENGINE SIZE                             0.765820         0.806647   -0.771214   \n",
              "CYLINDERS                               0.699117         0.760996   -0.722332   \n",
              "FUEL CONSUMPTION CITY (L/100 km)        0.954999         0.994376   -0.923250   \n",
              "HWY (L/100 km)                          1.000000         0.980701   -0.885632   \n",
              "COMB (L/100 km)                         0.980701         1.000000   -0.919700   \n",
              "COMB (mpg)                             -0.885632        -0.919700    1.000000   \n",
              "CO2 EMISSIONS  (g/km)                   0.890683         0.917230   -0.900707   \n",
              "\n",
              "                                  CO2 EMISSIONS  (g/km)  \n",
              "MODEL YEAR                                    -0.196188  \n",
              "ENGINE SIZE                                    0.825690  \n",
              "CYLINDERS                                      0.795256  \n",
              "FUEL CONSUMPTION CITY (L/100 km)               0.916559  \n",
              "HWY (L/100 km)                                 0.890683  \n",
              "COMB (L/100 km)                                0.917230  \n",
              "COMB (mpg)                                    -0.900707  \n",
              "CO2 EMISSIONS  (g/km)                          1.000000  "
            ],
            "text/html": [
              "\n",
              "\n",
              "  <div id=\"df-f410c16d-2664-4fbf-a9d7-47b06166ddb0\">\n",
              "    <div class=\"colab-df-container\">\n",
              "      <div>\n",
              "<style scoped>\n",
              "    .dataframe tbody tr th:only-of-type {\n",
              "        vertical-align: middle;\n",
              "    }\n",
              "\n",
              "    .dataframe tbody tr th {\n",
              "        vertical-align: top;\n",
              "    }\n",
              "\n",
              "    .dataframe thead th {\n",
              "        text-align: right;\n",
              "    }\n",
              "</style>\n",
              "<table border=\"1\" class=\"dataframe\">\n",
              "  <thead>\n",
              "    <tr style=\"text-align: right;\">\n",
              "      <th></th>\n",
              "      <th>MODEL YEAR</th>\n",
              "      <th>ENGINE SIZE</th>\n",
              "      <th>CYLINDERS</th>\n",
              "      <th>FUEL CONSUMPTION CITY (L/100 km)</th>\n",
              "      <th>HWY (L/100 km)</th>\n",
              "      <th>COMB (L/100 km)</th>\n",
              "      <th>COMB (mpg)</th>\n",
              "      <th>CO2 EMISSIONS  (g/km)</th>\n",
              "    </tr>\n",
              "  </thead>\n",
              "  <tbody>\n",
              "    <tr>\n",
              "      <th>MODEL YEAR</th>\n",
              "      <td>1.000000</td>\n",
              "      <td>0.044227</td>\n",
              "      <td>0.012191</td>\n",
              "      <td>-0.108952</td>\n",
              "      <td>-0.138446</td>\n",
              "      <td>-0.120130</td>\n",
              "      <td>0.166248</td>\n",
              "      <td>-0.196188</td>\n",
              "    </tr>\n",
              "    <tr>\n",
              "      <th>ENGINE SIZE</th>\n",
              "      <td>0.044227</td>\n",
              "      <td>1.000000</td>\n",
              "      <td>0.904852</td>\n",
              "      <td>0.815481</td>\n",
              "      <td>0.765820</td>\n",
              "      <td>0.806647</td>\n",
              "      <td>-0.771214</td>\n",
              "      <td>0.825690</td>\n",
              "    </tr>\n",
              "    <tr>\n",
              "      <th>CYLINDERS</th>\n",
              "      <td>0.012191</td>\n",
              "      <td>0.904852</td>\n",
              "      <td>1.000000</td>\n",
              "      <td>0.782181</td>\n",
              "      <td>0.699117</td>\n",
              "      <td>0.760996</td>\n",
              "      <td>-0.722332</td>\n",
              "      <td>0.795256</td>\n",
              "    </tr>\n",
              "    <tr>\n",
              "      <th>FUEL CONSUMPTION CITY (L/100 km)</th>\n",
              "      <td>-0.108952</td>\n",
              "      <td>0.815481</td>\n",
              "      <td>0.782181</td>\n",
              "      <td>1.000000</td>\n",
              "      <td>0.954999</td>\n",
              "      <td>0.994376</td>\n",
              "      <td>-0.923250</td>\n",
              "      <td>0.916559</td>\n",
              "    </tr>\n",
              "    <tr>\n",
              "      <th>HWY (L/100 km)</th>\n",
              "      <td>-0.138446</td>\n",
              "      <td>0.765820</td>\n",
              "      <td>0.699117</td>\n",
              "      <td>0.954999</td>\n",
              "      <td>1.000000</td>\n",
              "      <td>0.980701</td>\n",
              "      <td>-0.885632</td>\n",
              "      <td>0.890683</td>\n",
              "    </tr>\n",
              "    <tr>\n",
              "      <th>COMB (L/100 km)</th>\n",
              "      <td>-0.120130</td>\n",
              "      <td>0.806647</td>\n",
              "      <td>0.760996</td>\n",
              "      <td>0.994376</td>\n",
              "      <td>0.980701</td>\n",
              "      <td>1.000000</td>\n",
              "      <td>-0.919700</td>\n",
              "      <td>0.917230</td>\n",
              "    </tr>\n",
              "    <tr>\n",
              "      <th>COMB (mpg)</th>\n",
              "      <td>0.166248</td>\n",
              "      <td>-0.771214</td>\n",
              "      <td>-0.722332</td>\n",
              "      <td>-0.923250</td>\n",
              "      <td>-0.885632</td>\n",
              "      <td>-0.919700</td>\n",
              "      <td>1.000000</td>\n",
              "      <td>-0.900707</td>\n",
              "    </tr>\n",
              "    <tr>\n",
              "      <th>CO2 EMISSIONS  (g/km)</th>\n",
              "      <td>-0.196188</td>\n",
              "      <td>0.825690</td>\n",
              "      <td>0.795256</td>\n",
              "      <td>0.916559</td>\n",
              "      <td>0.890683</td>\n",
              "      <td>0.917230</td>\n",
              "      <td>-0.900707</td>\n",
              "      <td>1.000000</td>\n",
              "    </tr>\n",
              "  </tbody>\n",
              "</table>\n",
              "</div>\n",
              "      <button class=\"colab-df-convert\" onclick=\"convertToInteractive('df-f410c16d-2664-4fbf-a9d7-47b06166ddb0')\"\n",
              "              title=\"Convert this dataframe to an interactive table.\"\n",
              "              style=\"display:none;\">\n",
              "\n",
              "  <svg xmlns=\"http://www.w3.org/2000/svg\" height=\"24px\"viewBox=\"0 0 24 24\"\n",
              "       width=\"24px\">\n",
              "    <path d=\"M0 0h24v24H0V0z\" fill=\"none\"/>\n",
              "    <path d=\"M18.56 5.44l.94 2.06.94-2.06 2.06-.94-2.06-.94-.94-2.06-.94 2.06-2.06.94zm-11 1L8.5 8.5l.94-2.06 2.06-.94-2.06-.94L8.5 2.5l-.94 2.06-2.06.94zm10 10l.94 2.06.94-2.06 2.06-.94-2.06-.94-.94-2.06-.94 2.06-2.06.94z\"/><path d=\"M17.41 7.96l-1.37-1.37c-.4-.4-.92-.59-1.43-.59-.52 0-1.04.2-1.43.59L10.3 9.45l-7.72 7.72c-.78.78-.78 2.05 0 2.83L4 21.41c.39.39.9.59 1.41.59.51 0 1.02-.2 1.41-.59l7.78-7.78 2.81-2.81c.8-.78.8-2.07 0-2.86zM5.41 20L4 18.59l7.72-7.72 1.47 1.35L5.41 20z\"/>\n",
              "  </svg>\n",
              "      </button>\n",
              "\n",
              "\n",
              "\n",
              "    <div id=\"df-67bc6387-c143-4419-ba9c-56dbb5074c45\">\n",
              "      <button class=\"colab-df-quickchart\" onclick=\"quickchart('df-67bc6387-c143-4419-ba9c-56dbb5074c45')\"\n",
              "              title=\"Suggest charts.\"\n",
              "              style=\"display:none;\">\n",
              "\n",
              "<svg xmlns=\"http://www.w3.org/2000/svg\" height=\"24px\"viewBox=\"0 0 24 24\"\n",
              "     width=\"24px\">\n",
              "    <g>\n",
              "        <path d=\"M19 3H5c-1.1 0-2 .9-2 2v14c0 1.1.9 2 2 2h14c1.1 0 2-.9 2-2V5c0-1.1-.9-2-2-2zM9 17H7v-7h2v7zm4 0h-2V7h2v10zm4 0h-2v-4h2v4z\"/>\n",
              "    </g>\n",
              "</svg>\n",
              "      </button>\n",
              "    </div>\n",
              "\n",
              "<style>\n",
              "  .colab-df-quickchart {\n",
              "    background-color: #E8F0FE;\n",
              "    border: none;\n",
              "    border-radius: 50%;\n",
              "    cursor: pointer;\n",
              "    display: none;\n",
              "    fill: #1967D2;\n",
              "    height: 32px;\n",
              "    padding: 0 0 0 0;\n",
              "    width: 32px;\n",
              "  }\n",
              "\n",
              "  .colab-df-quickchart:hover {\n",
              "    background-color: #E2EBFA;\n",
              "    box-shadow: 0px 1px 2px rgba(60, 64, 67, 0.3), 0px 1px 3px 1px rgba(60, 64, 67, 0.15);\n",
              "    fill: #174EA6;\n",
              "  }\n",
              "\n",
              "  [theme=dark] .colab-df-quickchart {\n",
              "    background-color: #3B4455;\n",
              "    fill: #D2E3FC;\n",
              "  }\n",
              "\n",
              "  [theme=dark] .colab-df-quickchart:hover {\n",
              "    background-color: #434B5C;\n",
              "    box-shadow: 0px 1px 3px 1px rgba(0, 0, 0, 0.15);\n",
              "    filter: drop-shadow(0px 1px 2px rgba(0, 0, 0, 0.3));\n",
              "    fill: #FFFFFF;\n",
              "  }\n",
              "</style>\n",
              "\n",
              "    <script>\n",
              "      async function quickchart(key) {\n",
              "        const containerElement = document.querySelector('#' + key);\n",
              "        const charts = await google.colab.kernel.invokeFunction(\n",
              "            'suggestCharts', [key], {});\n",
              "      }\n",
              "    </script>\n",
              "\n",
              "      <script>\n",
              "\n",
              "function displayQuickchartButton(domScope) {\n",
              "  let quickchartButtonEl =\n",
              "    domScope.querySelector('#df-67bc6387-c143-4419-ba9c-56dbb5074c45 button.colab-df-quickchart');\n",
              "  quickchartButtonEl.style.display =\n",
              "    google.colab.kernel.accessAllowed ? 'block' : 'none';\n",
              "}\n",
              "\n",
              "        displayQuickchartButton(document);\n",
              "      </script>\n",
              "      <style>\n",
              "    .colab-df-container {\n",
              "      display:flex;\n",
              "      flex-wrap:wrap;\n",
              "      gap: 12px;\n",
              "    }\n",
              "\n",
              "    .colab-df-convert {\n",
              "      background-color: #E8F0FE;\n",
              "      border: none;\n",
              "      border-radius: 50%;\n",
              "      cursor: pointer;\n",
              "      display: none;\n",
              "      fill: #1967D2;\n",
              "      height: 32px;\n",
              "      padding: 0 0 0 0;\n",
              "      width: 32px;\n",
              "    }\n",
              "\n",
              "    .colab-df-convert:hover {\n",
              "      background-color: #E2EBFA;\n",
              "      box-shadow: 0px 1px 2px rgba(60, 64, 67, 0.3), 0px 1px 3px 1px rgba(60, 64, 67, 0.15);\n",
              "      fill: #174EA6;\n",
              "    }\n",
              "\n",
              "    [theme=dark] .colab-df-convert {\n",
              "      background-color: #3B4455;\n",
              "      fill: #D2E3FC;\n",
              "    }\n",
              "\n",
              "    [theme=dark] .colab-df-convert:hover {\n",
              "      background-color: #434B5C;\n",
              "      box-shadow: 0px 1px 3px 1px rgba(0, 0, 0, 0.15);\n",
              "      filter: drop-shadow(0px 1px 2px rgba(0, 0, 0, 0.3));\n",
              "      fill: #FFFFFF;\n",
              "    }\n",
              "  </style>\n",
              "\n",
              "      <script>\n",
              "        const buttonEl =\n",
              "          document.querySelector('#df-f410c16d-2664-4fbf-a9d7-47b06166ddb0 button.colab-df-convert');\n",
              "        buttonEl.style.display =\n",
              "          google.colab.kernel.accessAllowed ? 'block' : 'none';\n",
              "\n",
              "        async function convertToInteractive(key) {\n",
              "          const element = document.querySelector('#df-f410c16d-2664-4fbf-a9d7-47b06166ddb0');\n",
              "          const dataTable =\n",
              "            await google.colab.kernel.invokeFunction('convertToInteractive',\n",
              "                                                     [key], {});\n",
              "          if (!dataTable) return;\n",
              "\n",
              "          const docLinkHtml = 'Like what you see? Visit the ' +\n",
              "            '<a target=\"_blank\" href=https://colab.research.google.com/notebooks/data_table.ipynb>data table notebook</a>'\n",
              "            + ' to learn more about interactive tables.';\n",
              "          element.innerHTML = '';\n",
              "          dataTable['output_type'] = 'display_data';\n",
              "          await google.colab.output.renderOutput(dataTable, element);\n",
              "          const docLink = document.createElement('div');\n",
              "          docLink.innerHTML = docLinkHtml;\n",
              "          element.appendChild(docLink);\n",
              "        }\n",
              "      </script>\n",
              "    </div>\n",
              "  </div>\n"
            ]
          },
          "metadata": {},
          "execution_count": 6
        }
      ]
    },
    {
      "cell_type": "code",
      "source": [],
      "metadata": {
        "id": "DTzXXgKdg7Dq"
      },
      "execution_count": null,
      "outputs": []
    }
  ]
}